{
 "cells": [
  {
   "cell_type": "markdown",
   "metadata": {
    "collapsed": true,
    "pycharm": {
     "name": "#%% md\n"
    }
   },
   "source": [
    "SIMULATION OF SYSTEMS OF RANDOM VALUES"
   ]
  },
  {
   "cell_type": "code",
   "execution_count": 1,
   "outputs": [],
   "source": [
    "from IPython.display import display, Math\n",
    "from scipy import stats\n",
    "\n",
    "import matplotlib.pyplot as plt\n",
    "import seaborn as sns\n",
    "import numpy as np"
   ],
   "metadata": {
    "collapsed": false,
    "pycharm": {
     "name": "#%%\n"
    }
   }
  },
  {
   "cell_type": "code",
   "execution_count": 2,
   "outputs": [],
   "source": [
    "TM_TEX = r\"\\text {Theoretical distribution matrix of a two-dimensional DRV =}\"\n",
    "PM_TEX = r\"\\text {Empirical distribution matrix of a two-dimensional DRV =}\""
   ],
   "metadata": {
    "collapsed": false,
    "pycharm": {
     "name": "#%%\n"
    }
   }
  },
  {
   "cell_type": "code",
   "execution_count": 3,
   "outputs": [],
   "source": [
    "def bmatrix(a: np.array) -> str:\n",
    "    \"\"\"Returns a LaTeX bmatrix\n",
    "\n",
    "    :a: numpy array\n",
    "    :returns: LaTeX bmatrix as a string\n",
    "    \"\"\"\n",
    "    if len(a.shape) > 2:\n",
    "        raise ValueError(\"bmatrix can at most display two dimensions\")\n",
    "    lines = str(a).replace(\"[\", \"\").replace(\"]\", \"\").splitlines()\n",
    "    rv = [r\"\\begin{bmatrix}\"]\n",
    "    rv += [\" \" + \" & \".join(l.split()) + r\"\\\\\" for l in lines]\n",
    "    rv += [r\"\\end{bmatrix}\"]\n",
    "    return \"\\n\".join(rv)"
   ],
   "metadata": {
    "collapsed": false,
    "pycharm": {
     "name": "#%%\n"
    }
   }
  },
  {
   "cell_type": "code",
   "execution_count": 4,
   "outputs": [],
   "source": [
    "def calculate_variance_theoretical(xi: np.array, pi: np.array, M: float) -> float:\n",
    "    return np.sum(xi ** 2 * pi) - M ** 2\n",
    "\n",
    "\n",
    "def calculate_variance_empirical(X: np.array, M: float) -> float:\n",
    "    return sum((x - M) ** 2 for x in X) / (len(X) - 1)\n",
    "\n",
    "\n",
    "def confidence_interval_variance(N: int, D: float, alpha: float) -> tuple[float, float]:\n",
    "    left = (N - 1) * D / stats.chi2.ppf(alpha + (1 - alpha) / 2, df=N - 1)\n",
    "    right = (N - 1) * D / stats.chi2.ppf((1 - alpha) / 2, df=N - 1)\n",
    "    return left, right\n",
    "\n",
    "\n",
    "def confidence_interval_correlation(r: float, t: float, N: int) -> tuple[float, float]:\n",
    "    left = r - t * (1 - r ** 2) / N ** 0.5\n",
    "    right = r + t * (1 - r ** 2) / N ** 0.5\n",
    "    return left, right\n",
    "\n",
    "\n",
    "def calculate_bivariate_distribution_function(F: np.array) -> np.array:\n",
    "    # формируем двумерную функцию распределния\n",
    "    Fn = np.zeros_like(F)\n",
    "    for i in range(F.shape[0]):\n",
    "        for j in range(F.shape[1]):\n",
    "            Fn[i, j] = F[:i + 1, :j + 1].sum()\n",
    "    return Fn\n",
    "\n",
    "\n",
    "def check_borders(left: float, right: float, value: float) -> bool:\n",
    "    return True if left < value < right else False\n",
    "\n",
    "\n",
    "def display_confidence_intervals(E: float, D: float, N: int, letter: str) -> None:\n",
    "    for alpha in (0.99, 0.98, 0.95):\n",
    "        ok = 0\n",
    "        mean_left, mean_right = stats.norm.interval(alpha=alpha, loc=E, scale=(D / N) ** 0.5)\n",
    "        variance_left, variance_right = confidence_interval_variance(N, D, alpha)\n",
    "        if check_borders(mean_left, mean_right, E):\n",
    "            display(Math(f\"{letter}\" + r'\\text { Confidence intervals for alpha=}' + str(alpha)))\n",
    "            display(Math(r'\\mathrm{E}' + f'({letter})' + r'\\text { in interval }' + f\"({mean_left} : {mean_right})\"))\n",
    "            ok += 0.5\n",
    "        if check_borders(variance_left, variance_right, D):\n",
    "            display(Math(\n",
    "                r'\\operatorname{Var}' + f'({letter})' + r'\\text { in interval }' + f\"({variance_left} : {variance_right})\"))\n",
    "            ok += 0.5\n",
    "        if bool(ok): break"
   ],
   "metadata": {
    "collapsed": false,
    "pycharm": {
     "name": "#%%\n"
    }
   }
  },
  {
   "cell_type": "code",
   "execution_count": 5,
   "outputs": [],
   "source": [
    "def calc_estimates_empirical(T: np.array, P: np.array, X: np.array, Y: np.array, Y_th: np.array,\n",
    "                             X_th: np.array) -> None:\n",
    "    # Подсчет империческое матожидания для случайных величин X и Y\n",
    "    # E[X]=ΣXi / N\n",
    "    Mx, My = np.mean(X), np.mean(Y)\n",
    "    # Подсчет империческое дисперсии для случайных величин X и Y\n",
    "    Dx, Dy = calculate_variance_empirical(X, Mx), calculate_variance_empirical(Y, My)\n",
    "    # Подсчет среднего квадратическим отклонения для случайных величин X и Y\n",
    "    # σ(X)=√D\n",
    "    sigma_x = Dx ** 0.5\n",
    "    sigma_y = Dy ** 0.5\n",
    "    # Подсчет ковариации для случайных величин X и Y\n",
    "    cov_XY = sum((x - Mx) * (y - My) for (x, y) in zip(X, Y)) / (len(X) - 1)\n",
    "    # Подсчет корреляции для случайных величин X и Y\n",
    "    r_XY = cov_XY / (sigma_x * sigma_y)\n",
    "    # Вывод результатов\n",
    "    print(\"Empirical\")\n",
    "    display(Math(r'\\mathrm{E}[X]=\\sum_{i=1}^{k} x_{i} px_{i}=' + str(Mx) + r',\\ \\mathrm{E}[Y]=\\sum_{i=1}^{k} y_{i} py_{i}=' + str(My)))\n",
    "    display(Math(r'\\operatorname{Var}(X)=' + str(Dx) + r'\\ \\operatorname{Var}(Y)=' + str(Dy)))\n",
    "    display(Math(r'\\sigma(X)=\\sqrt{\\frac{\\sum\\left(x_{i}-\\mu\\right)^{2}}{N}}=' + str(sigma_x)))\n",
    "    display(Math(r'\\sigma(Y)=\\sqrt{\\frac{\\sum\\left(y_{i}-\\mu\\right)^{2}}{N}}=' + str(sigma_y)))\n",
    "    display(Math(r'\\operatorname{cov}(X, Y)=\\mathrm{E}[(X-\\mathrm{E}[X])(Y-\\mathrm{E}[Y])]=' + str(cov_XY)))\n",
    "    display(Math(\n",
    "        r'\\rho_{X, Y}=\\operatorname{corr}(X, Y)=\\frac{\\operatorname{cov}(X, Y)}{\\sigma_{X} \\sigma_{Y}}=' + str(r_XY)))\n",
    "    # Confidence interval матожидание, дисперсия, корреляция\n",
    "    print(\"Confidence intervals матожидание, дисперсия, корреляция\")\n",
    "    display_confidence_intervals(E=Mx, D=Dx, N=len(X), letter=\"X\")\n",
    "    display_confidence_intervals(E=My, D=Dy, N=len(X), letter=\"Y\")\n",
    "    # Student's t-test for a = 0.05 and df=inf\n",
    "    # r_left, r_right = confidence_interval_correlation(r=r_XY, t=1.96, N=len(X))\n",
    "    # display(Math(r'\\text {Confidence intervals for correlation }\\rho_{X, Y}=' + f\"({r_left}:{r_right})\"))\n",
    "\n",
    "    # Критерий Колмогорова\n",
    "    # формируем функции распределния для теор и импер\n",
    "    print(\"Функции распределния\")\n",
    "    Fn = calculate_bivariate_distribution_function(P)\n",
    "    F = calculate_bivariate_distribution_function(T)\n",
    "    display(Math(r'F(x, y) = P(X <= x, Y <= y) \\ =>  \\ Empirical= {} \\ Theoretical={}  \\\\'.format(bmatrix(Fn), bmatrix(F))))\n",
    "    # проверяем критерий D_{n}=\\sup _{x \\in \\mathbb{R}}\\left|F_{n}(x)-F(x)\\right|\n",
    "    D = max(abs(Fn[i, j] - F[i, j]) for i in range(len(X_th)) for j in range(len(Y_th)))\n",
    "    critical = 1.36 / (len(X) ** 0.5)\n",
    "    print(\"Критерий Колмогорова\")\n",
    "    display(Math(r'\\text {На уровне значимости a=0.01, допустимое значение D=.}' + str(critical)))\n",
    "    display(Math(r'\\text {Проверяем гипотезу H0, получаем значение D=}' + str(D)))\n",
    "    display(Math(\n",
    "        r'\\text {Поэтому на уровне значимости a=0.1 нулевую гипотезу H0 принимаем.}')) if D < critical else display(\n",
    "        Math(r'\\text {Поэтому на уровне значимости a=0.1 нулевую гипотезу H0 отвергаем.}'))\n"
   ],
   "metadata": {
    "collapsed": false,
    "pycharm": {
     "name": "#%%\n"
    }
   }
  },
  {
   "cell_type": "code",
   "execution_count": 6,
   "outputs": [],
   "source": [
    "def calc_estimates_theoretical(T: np.array, X: np.array, Y: np.array) -> None:\n",
    "    # Подсчет теоретического матожидания для случайных величин X и Y\n",
    "    # E[X]=Σxi*pi\n",
    "    X_p, Y_p = np.sum(T, axis=1), np.sum(T, axis=0)\n",
    "    Mx, My = np.sum(X_p * X), np.sum(Y_p * Y)\n",
    "    # Подсчет теоретической дисперсии для случайных величин X и Y\n",
    "    # D[X]=M(X^2)-M(X)^2\n",
    "    Dx, Dy = calculate_variance_theoretical(X, X_p, Mx), calculate_variance_theoretical(Y, Y_p, My)\n",
    "    # Подсчет среднего квадратическим отклонения для случайных величин X и Y\n",
    "    # σ(X)=√D\n",
    "    sigma_x = Dx ** 0.5\n",
    "    sigma_y = Dy ** 0.5\n",
    "    # Подсчет ковариации для случайных величин X и Y\n",
    "    # cov(X,Y)=ΣΣ(X-M(X))(Y-M(X))*Tij\n",
    "    cov_XY = np.sum([(X[i] - Mx) * (Y[j] - My) * T[i][j] for i in range(len(X)) for j in range(len(Y))])\n",
    "    # Подсчет корреляции для случайных величин X и Y\n",
    "    # r(X,Y)=cov(X,Y)/σ(X)σ(Y)\n",
    "    r_XY = cov_XY / (sigma_x * sigma_y)\n",
    "    # Вывод результатов\n",
    "    print(\"Theoretical\")\n",
    "    display(Math(r'\\mathrm{E}[X]=\\sum_{i=1}^{k} x_{i} px_{i}=' + str(Mx) + r', \\ \\mathrm{E}[Y]=\\sum_{i=1}^{k} y_{i} py_{i}=' + str(My)))\n",
    "    display(Math(r'\\operatorname{Var}(X)=' + str(Dx)))\n",
    "    display(Math(r'\\operatorname{Var}(Y)=' + str(Dy)))\n",
    "    display(Math(r'\\sigma(X)=\\sqrt{\\frac{\\sum\\left(x_{i}-\\mu\\right)^{2}}{N}}=' + str(sigma_x)))\n",
    "    display(Math(r'\\sigma(Y)=\\sqrt{\\frac{\\sum\\left(y_{i}-\\mu\\right)^{2}}{N}}=' + str(sigma_y)))\n",
    "    display(Math(r'\\operatorname{cov}(X, Y)=\\mathrm{E}[(X-\\mathrm{E}[X])(Y-\\mathrm{E}[Y])]=' + str(cov_XY)))\n",
    "    display(Math(\n",
    "        r'\\rho_{X, Y}=\\operatorname{corr}(X, Y)=\\frac{\\operatorname{cov}(X, Y)}{\\sigma_{X} \\sigma_{Y}}=' + str(r_XY)))"
   ],
   "metadata": {
    "collapsed": false,
    "pycharm": {
     "name": "#%%\n"
    }
   }
  },
  {
   "cell_type": "code",
   "execution_count": 7,
   "outputs": [],
   "source": [
    "def simulation_random_value(T: np.array) -> tuple[int, int]:\n",
    "    \"\"\"Returns a random matrix index\n",
    "\n",
    "    :T: Theoretical distribution matrix of a two-dimensional: np.array\n",
    "    :returns: tuple of matrix index\n",
    "    \"\"\"\n",
    "    q = np.sum(T, axis=1).tolist()\n",
    "    l = [sum(q[:i - 1]) for i in range(1, len(q) + 2)]\n",
    "    random_number = np.random.uniform()\n",
    "    for i in range(len(T)):\n",
    "        if l[i] < random_number <= l[i + 1]:\n",
    "            for j in range(len(T[i])):\n",
    "                if sum(T[i][:j + 1]) + l[i] >= random_number:\n",
    "                    return i, j"
   ],
   "metadata": {
    "collapsed": false,
    "pycharm": {
     "name": "#%%\n"
    }
   }
  },
  {
   "cell_type": "code",
   "execution_count": 8,
   "outputs": [],
   "source": [
    "def show_histogram(values: np.arange, component_name: str) -> None:\n",
    "    sns.set_style(\"darkgrid\")\n",
    "    plt.figure(dpi=120, figsize=(8, 5))\n",
    "    plt.hist(values, color=sns.color_palette('deep')[4], linewidth=2)\n",
    "    plt.title(\"Histogram of \" + component_name + \" component of DRV\")\n",
    "    plt.xlabel(\"Value\")\n",
    "    plt.ylabel(\"Amount\")\n",
    "    # sns.histplot(values, palette='deep', color=sns.color_palette('deep')[1], linewidth=2, binwidth=0.4)\n",
    "    plt.legend((component_name + \" component\", ''))\n",
    "    plt.show()"
   ],
   "metadata": {
    "collapsed": false,
    "pycharm": {
     "name": "#%%\n"
    }
   }
  },
  {
   "cell_type": "code",
   "execution_count": 9,
   "outputs": [],
   "source": [
    "def generate_empirical_matrix(T: np.array, X: np.array, Y: np.array, P: np.array, num_attempts: int) -> np.array:\n",
    "    \"\"\"Empirical distribution matrix of a two-dimensional DRV\n",
    "\n",
    "    :T: Theoretical distribution matrix of a two-dimensional: np.array\n",
    "    :P: Zeros matrix: np.array\n",
    "    :num_attempts: Number of draws: int\n",
    "    :returns\n",
    "    :P: Empirical distribution matrix as a np.array,\n",
    "    :emp_dis_rv_X: Empirical distribution of a random variable X as a np.array,\n",
    "    :emp_dis_rv_Y: Empirical distribution of a random variable Y as a np.array,\n",
    "    \"\"\"\n",
    "    empirical_X = []\n",
    "    empirical_Y = []\n",
    "    for i in range(num_attempts):\n",
    "        i, j = simulation_random_value(T)\n",
    "        P[i][j] += 1\n",
    "        empirical_X.append(X[i])\n",
    "        empirical_Y.append(Y[j])\n",
    "    show_histogram(empirical_X, \"X\")\n",
    "    show_histogram(empirical_Y, \"Y\")\n",
    "    P /= num_attempts\n",
    "    display(Math(r'{} {} \\\\'.format(TM_TEX, bmatrix(T))))\n",
    "    display(Math(r'{} {} \\\\'.format(PM_TEX, bmatrix(P))))\n",
    "    return P, empirical_X, empirical_Y"
   ],
   "metadata": {
    "collapsed": false,
    "pycharm": {
     "name": "#%%\n"
    }
   }
  },
  {
   "cell_type": "code",
   "execution_count": 10,
   "outputs": [
    {
     "data": {
      "text/plain": "<Figure size 960x600 with 1 Axes>",
      "image/png": "[encoded data removed]"
     },
     "metadata": {},
     "output_type": "display_data"
    },
    {
     "data": {
      "text/plain": "<Figure size 960x600 with 1 Axes>",
      "image/png": "[encoded data removed]"
     },
     "metadata": {},
     "output_type": "display_data"
    },
    {
     "data": {
      "text/plain": "<IPython.core.display.Math object>",
      "text/latex": "$\\displaystyle \\text {Theoretical distribution matrix of a two-dimensional DRV =} \\begin{bmatrix}\n 0.01 & 0.01 & 0.02 & 0.02 & 0.01\\\\\n 0.04 & 0.3 & 0.06 & 0.03 & 0.01\\\\\n 0.02 & 0.03 & 0.06 & 0.07 & 0.05\\\\\n 0.05 & 0.03 & 0.04 & 0.02 & 0.03\\\\\n 0.03 & 0.02 & 0.01 & 0.01 & 0.02\\\\\n\\end{bmatrix} \\\\$"
     },
     "metadata": {},
     "output_type": "display_data"
    },
    {
     "data": {
      "text/plain": "<IPython.core.display.Math object>",
      "text/latex": "$\\displaystyle \\text {Empirical distribution matrix of a two-dimensional DRV =} \\begin{bmatrix}\n 0.008 & 0.012 & 0.022 & 0.029 & 0.015\\\\\n 0.037 & 0.316 & 0.05 & 0.032 & 0.013\\\\\n 0.013 & 0.025 & 0.057 & 0.059 & 0.064\\\\\n 0.051 & 0.018 & 0.033 & 0.027 & 0.032\\\\\n 0.024 & 0.023 & 0.006 & 0.008 & 0.026\\\\\n\\end{bmatrix} \\\\$"
     },
     "metadata": {},
     "output_type": "display_data"
    },
    {
     "name": "stdout",
     "output_type": "stream",
     "text": [
      "Theoretical\n"
     ]
    },
    {
     "data": {
      "text/plain": "<IPython.core.display.Math object>",
      "text/latex": "$\\displaystyle \\mathrm{E}[X]=\\sum_{i=1}^{k} x_{i} px_{i}=7.77, \\ \\mathrm{E}[Y]=\\sum_{i=1}^{k} y_{i} py_{i}=2.7$"
     },
     "metadata": {},
     "output_type": "display_data"
    },
    {
     "data": {
      "text/plain": "<IPython.core.display.Math object>",
      "text/latex": "$\\displaystyle \\operatorname{Var}(X)=1.197099999999999$"
     },
     "metadata": {},
     "output_type": "display_data"
    },
    {
     "data": {
      "text/plain": "<IPython.core.display.Math object>",
      "text/latex": "$\\displaystyle \\operatorname{Var}(Y)=1.5299999999999994$"
     },
     "metadata": {},
     "output_type": "display_data"
    },
    {
     "data": {
      "text/plain": "<IPython.core.display.Math object>",
      "text/latex": "$\\displaystyle \\sigma(X)=\\sqrt{\\frac{\\sum\\left(x_{i}-\\mu\\right)^{2}}{N}}=1.0941206514822754$"
     },
     "metadata": {},
     "output_type": "display_data"
    },
    {
     "data": {
      "text/plain": "<IPython.core.display.Math object>",
      "text/latex": "$\\displaystyle \\sigma(Y)=\\sqrt{\\frac{\\sum\\left(y_{i}-\\mu\\right)^{2}}{N}}=1.2369316876852978$"
     },
     "metadata": {},
     "output_type": "display_data"
    },
    {
     "data": {
      "text/plain": "<IPython.core.display.Math object>",
      "text/latex": "$\\displaystyle \\operatorname{cov}(X, Y)=\\mathrm{E}[(X-\\mathrm{E}[X])(Y-\\mathrm{E}[Y])]=0.13099999999999998$"
     },
     "metadata": {},
     "output_type": "display_data"
    },
    {
     "data": {
      "text/plain": "<IPython.core.display.Math object>",
      "text/latex": "$\\displaystyle \\rho_{X, Y}=\\operatorname{corr}(X, Y)=\\frac{\\operatorname{cov}(X, Y)}{\\sigma_{X} \\sigma_{Y}}=0.09679665838411217$"
     },
     "metadata": {},
     "output_type": "display_data"
    },
    {
     "name": "stdout",
     "output_type": "stream",
     "text": [
      "Empirical\n"
     ]
    },
    {
     "data": {
      "text/plain": "<IPython.core.display.Math object>",
      "text/latex": "$\\displaystyle \\mathrm{E}[X]=\\sum_{i=1}^{k} x_{i} px_{i}=7.715,\\ \\mathrm{E}[Y]=\\sum_{i=1}^{k} y_{i} py_{i}=2.795$"
     },
     "metadata": {},
     "output_type": "display_data"
    },
    {
     "data": {
      "text/plain": "<IPython.core.display.Math object>",
      "text/latex": "$\\displaystyle \\operatorname{Var}(X)=1.2209959959959906\\ \\operatorname{Var}(Y)=1.6406156156156313$"
     },
     "metadata": {},
     "output_type": "display_data"
    },
    {
     "data": {
      "text/plain": "<IPython.core.display.Math object>",
      "text/latex": "$\\displaystyle \\sigma(X)=\\sqrt{\\frac{\\sum\\left(x_{i}-\\mu\\right)^{2}}{N}}=1.1049868759383483$"
     },
     "metadata": {},
     "output_type": "display_data"
    },
    {
     "data": {
      "text/plain": "<IPython.core.display.Math object>",
      "text/latex": "$\\displaystyle \\sigma(Y)=\\sqrt{\\frac{\\sum\\left(y_{i}-\\mu\\right)^{2}}{N}}=1.2808651824511552$"
     },
     "metadata": {},
     "output_type": "display_data"
    },
    {
     "data": {
      "text/plain": "<IPython.core.display.Math object>",
      "text/latex": "$\\displaystyle \\operatorname{cov}(X, Y)=\\mathrm{E}[(X-\\mathrm{E}[X])(Y-\\mathrm{E}[Y])]=0.16073573573573635$"
     },
     "metadata": {},
     "output_type": "display_data"
    },
    {
     "data": {
      "text/plain": "<IPython.core.display.Math object>",
      "text/latex": "$\\displaystyle \\rho_{X, Y}=\\operatorname{corr}(X, Y)=\\frac{\\operatorname{cov}(X, Y)}{\\sigma_{X} \\sigma_{Y}}=0.11356693424940345$"
     },
     "metadata": {},
     "output_type": "display_data"
    },
    {
     "name": "stdout",
     "output_type": "stream",
     "text": [
      "Confidence intervals матожидание, дисперсия, корреляция\n"
     ]
    },
    {
     "data": {
      "text/plain": "<IPython.core.display.Math object>",
      "text/latex": "$\\displaystyle X\\text { Confidence intervals for alpha=}0.99$"
     },
     "metadata": {},
     "output_type": "display_data"
    },
    {
     "data": {
      "text/plain": "<IPython.core.display.Math object>",
      "text/latex": "$\\displaystyle \\mathrm{E}(X)\\text { in interval }(7.624993432552428 : 7.805006567447572)$"
     },
     "metadata": {},
     "output_type": "display_data"
    },
    {
     "data": {
      "text/plain": "<IPython.core.display.Math object>",
      "text/latex": "$\\displaystyle \\operatorname{Var}(X)\\text { in interval }(1.0911400102552289 : 1.374206800180664)$"
     },
     "metadata": {},
     "output_type": "display_data"
    },
    {
     "data": {
      "text/plain": "<IPython.core.display.Math object>",
      "text/latex": "$\\displaystyle Y\\text { Confidence intervals for alpha=}0.99$"
     },
     "metadata": {},
     "output_type": "display_data"
    },
    {
     "data": {
      "text/plain": "<IPython.core.display.Math object>",
      "text/latex": "$\\displaystyle \\mathrm{E}(Y)\\text { in interval }(2.690667287145256 : 2.899332712854744)$"
     },
     "metadata": {},
     "output_type": "display_data"
    },
    {
     "data": {
      "text/plain": "<IPython.core.display.Math object>",
      "text/latex": "$\\displaystyle \\operatorname{Var}(Y)\\text { in interval }(1.4661320311599175 : 1.846480367548224)$"
     },
     "metadata": {},
     "output_type": "display_data"
    },
    {
     "name": "stdout",
     "output_type": "stream",
     "text": [
      "Функции распределния\n"
     ]
    },
    {
     "data": {
      "text/plain": "<IPython.core.display.Math object>",
      "text/latex": "$\\displaystyle F(x, y) = P(X <= x, Y <= y) \\ =>  \\ Empirical= \\begin{bmatrix}\n 0.008 & 0.02 & 0.042 & 0.071 & 0.086\\\\\n 0.045 & 0.373 & 0.445 & 0.506 & 0.534\\\\\n 0.058 & 0.411 & 0.54 & 0.66 & 0.752\\\\\n 0.109 & 0.48 & 0.642 & 0.789 & 0.913\\\\\n 0.133 & 0.527 & 0.695 & 0.85 & 1.\\\\\n\\end{bmatrix} \\ Theoretical=\\begin{bmatrix}\n 0.01 & 0.02 & 0.04 & 0.06 & 0.07\\\\\n 0.05 & 0.36 & 0.44 & 0.49 & 0.51\\\\\n 0.07 & 0.41 & 0.55 & 0.67 & 0.74\\\\\n 0.12 & 0.49 & 0.67 & 0.81 & 0.91\\\\\n 0.15 & 0.54 & 0.73 & 0.88 & 1.\\\\\n\\end{bmatrix}  \\\\$"
     },
     "metadata": {},
     "output_type": "display_data"
    },
    {
     "name": "stdout",
     "output_type": "stream",
     "text": [
      "Критерий Колмогорова\n"
     ]
    },
    {
     "data": {
      "text/plain": "<IPython.core.display.Math object>",
      "text/latex": "$\\displaystyle \\text {На уровне значимости a=0.01, допустимое значение D=.}0.04300697617828996$"
     },
     "metadata": {},
     "output_type": "display_data"
    },
    {
     "data": {
      "text/plain": "<IPython.core.display.Math object>",
      "text/latex": "$\\displaystyle \\text {Проверяем гипотезу H0, получаем значение D=}0.03500000000000003$"
     },
     "metadata": {},
     "output_type": "display_data"
    },
    {
     "data": {
      "text/plain": "<IPython.core.display.Math object>",
      "text/latex": "$\\displaystyle \\text {Поэтому на уровне значимости a=0.1 нулевую гипотезу H0 принимаем.}$"
     },
     "metadata": {},
     "output_type": "display_data"
    }
   ],
   "source": [
    "Y = np.array([1, 2, 3, 4, 5])\n",
    "X = np.array([6, 7, 8, 9, 10])\n",
    "theoretical_prob = np.array([\n",
    "    [0.01, 0.01, 0.02, 0.02, 0.01],\n",
    "    [0.04, 0.3, 0.06, 0.03, 0.01],\n",
    "    [0.02, 0.03, 0.06, 0.07, 0.05],\n",
    "    [0.05, 0.03, 0.04, 0.02, 0.03],\n",
    "    [0.03, 0.02, 0.01, 0.01, 0.02]\n",
    "])\n",
    "empirical_prob, X_data, Y_data = generate_empirical_matrix(\n",
    "    P=np.zeros_like(theoretical_prob),\n",
    "    X=X, Y=Y, T=theoretical_prob,\n",
    "    num_attempts=1000\n",
    ")\n",
    "calc_estimates_theoretical(X=X, Y=Y, T=theoretical_prob)\n",
    "calc_estimates_empirical(T=theoretical_prob, P=empirical_prob, X=X_data, Y=Y_data, Y_th=Y, X_th=X)"
   ],
   "metadata": {
    "collapsed": false,
    "pycharm": {
     "name": "#%%\n"
    }
   }
  }
 ],
 "metadata": {
  "kernelspec": {
   "display_name": "Python 3",
   "language": "python",
   "name": "python3"
  },
  "language_info": {
   "codemirror_mode": {
    "name": "ipython",
    "version": 2
   },
   "file_extension": ".py",
   "mimetype": "text/x-python",
   "name": "python",
   "nbconvert_exporter": "python",
   "pygments_lexer": "ipython2",
   "version": "2.7.6"
  }
 },
 "nbformat": 4,
 "nbformat_minor": 0
}