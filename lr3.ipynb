{
 "cells": [
  {
   "cell_type": "code",
   "execution_count": 1,
   "metadata": {
    "collapsed": true
   },
   "outputs": [],
   "source": [
    "from IPython.display import display, Math\n",
    "from collections import Counter\n",
    "from collections import OrderedDict\n",
    "\n",
    "import simpy\n",
    "import numpy as np"
   ]
  },
  {
   "cell_type": "markdown",
   "source": [
    "Зинин Егор 853502 вариант 8\n",
    "Рассматривается одноканальная СМО с отказами; на ее вход поступает простейший поток заявок с интенсивностью X. Время обслуживания — показательное с параметром Y = 1 / to6c. Работающий канал может время от времени выходить из строя (отказывать); поток отказов канала — простейший с интенсивностью X. Восстановление (ремонт) вышедшего из строя канала начинается мгновенно после его отказа; время ремонта — показательное с параметром R = 1 / tр . Заявка, которая обслуживалась в момент выхода канала из строя, покидает СМО необслуженной. Найти финальные вероятности состояний СМО: s0 — канал свободен; s1 — канал занят, исправен; s2 — канал ремонтируется и характеристики СМО: относительную и абсолютную пропускную способность системы"
   ],
   "metadata": {
    "collapsed": false,
    "pycharm": {
     "name": "#%% md\n"
    }
   }
  },
  {
   "cell_type": "code",
   "execution_count": 29,
   "outputs": [],
   "source": [
    "def theoretical(l, mu, v, gamma):\n",
    "    p = []\n",
    "    p.append((1 + (l / (mu + v)) + (l * v) / (gamma * (mu + v))) ** -1)\n",
    "    p.append(l / (mu + v) * p[0])\n",
    "    p.append((v / gamma) * p[1])\n",
    "    Q = mu * gamma / ( gamma * (mu + v) + l * (gamma + v) )\n",
    "    A = l * Q\n",
    "    print(\"Theoretical\")\n",
    "    display(Math(r'\\text{ Финальные вероятности состояний }'))\n",
    "    display(Math(r's_{0}=\\{1+\\lambda /(\\mu+\\nu)+\\lambda \\nu /[\\gamma(\\mu+\\nu)]\\}^{-1}=' + str(p[0])))\n",
    "    display(Math(r's_{1}=\\frac{\\lambda}{\\mu+\\nu} p_{0}=' + str(p[1])))\n",
    "    display(Math(r's_{2}=\\frac{\\nu}{\\gamma} p_{1}=' + str(p[2])))\n",
    "    display(Math(r'\\text{ Относительная пропускная способность равна }'))\n",
    "    display(Math(r'Q=\\frac{\\mu \\nu}{\\mu \\nu+v \\nu+\\nu \\lambda+v \\lambda}=' + str(Q)))\n",
    "    display(Math(r'\\text{Абсолютная пропускная способность}'))\n",
    "    display(Math(r'A=\\lambda Q=' + str(A)))"
   ],
   "metadata": {
    "collapsed": false,
    "pycharm": {
     "name": "#%%\n"
    }
   }
  },
  {
   "cell_type": "code",
   "execution_count": 30,
   "outputs": [],
   "source": [
    "def empirical(p, until, n_service, len_n):\n",
    "    A = n_service / until\n",
    "    Q = n_service / len_n\n",
    "    print(\"empirical\")\n",
    "    display(Math(r'\\text{ Финальные вероятности состояний }'))\n",
    "    display(Math(r's_{0}=' + str(p[0])))\n",
    "    display(Math(r's_{1}=' + str(p[1])))\n",
    "    display(Math(r's_{2}=' + str(p[2])))\n",
    "    display(Math(r'\\text{ Относительная пропускная способность равна }'))\n",
    "    display(Math(r'Q=' + str(Q)))\n",
    "    display(Math(r'\\text{Абсолютная пропускная способность}'))\n",
    "    display(Math(r'A=' + str(A)))"
   ],
   "metadata": {
    "collapsed": false,
    "pycharm": {
     "name": "#%%\n"
    }
   }
  },
  {
   "cell_type": "code",
   "execution_count": 31,
   "outputs": [],
   "source": [
    "class Queueing(object):\n",
    "    def __init__(self, env, l, mu, v, gamma):\n",
    "        self.mu, self.v, self.env = mu, v, env\n",
    "        self.l, self.gamma = l, gamma\n",
    "        self.worker = simpy.Resource(env, 1)\n",
    "        self.worker_busy = []\n",
    "        self.service = 0\n",
    "\n",
    "    def service_request(self):\n",
    "        yield self.env.timeout(np.random.exponential(1 / self.mu))\n",
    "\n",
    "    def fix_chanel(self):\n",
    "        yield self.env.timeout(np.random.exponential(1 / self.gamma))\n"
   ],
   "metadata": {
    "collapsed": false,
    "pycharm": {
     "name": "#%%\n"
    }
   }
  },
  {
   "cell_type": "code",
   "execution_count": 32,
   "outputs": [],
   "source": [
    "def make_request(env, queueing):\n",
    "    if queueing.worker.count != 0:\n",
    "        if \"_events\" not in queueing.worker.users[0].proc._target.__dict__:\n",
    "            queueing.worker_busy.append(2)\n",
    "        else:\n",
    "            queueing.worker_busy.append(1)\n",
    "    else:\n",
    "        queueing.worker_busy.append(queueing.worker.count)\n",
    "    with queueing.worker.request() as request:\n",
    "        if len(queueing.worker.queue) == 0:\n",
    "            refusal = np.random.exponential(1 / queueing.v)\n",
    "            yield request\n",
    "            result = yield env.process(queueing.service_request()) | env.timeout(refusal)\n",
    "            if '_target' not in result.__dict__[\"events\"][0].__dict__:\n",
    "                yield env.process(queueing.fix_chanel())\n",
    "            else :\n",
    "                queueing.service += 1"
   ],
   "metadata": {
    "collapsed": false,
    "pycharm": {
     "name": "#%%\n"
    }
   }
  },
  {
   "cell_type": "code",
   "execution_count": 33,
   "outputs": [],
   "source": [
    "def run_queuing(env, queueing):\n",
    "    while True:\n",
    "        yield env.timeout(np.random.exponential(1 / queueing.l))\n",
    "        env.process(make_request(env=env, queueing=queueing))"
   ],
   "metadata": {
    "collapsed": false,
    "pycharm": {
     "name": "#%%\n"
    }
   }
  },
  {
   "cell_type": "code",
   "execution_count": 34,
   "outputs": [],
   "source": [
    "def main(l, mu, v, until, gamma):\n",
    "    env = simpy.Environment()\n",
    "    queueing = Queueing(l=l, mu=mu, v=v, gamma=gamma, env=env)\n",
    "    env.process(run_queuing(env=env, queueing=queueing))\n",
    "    env.run(until=until)\n",
    "    p_empirical = list(v / len(queueing.worker_busy) for _, v in\n",
    "                       dict(OrderedDict(sorted(dict(Counter(queueing.worker_busy)).items()))).items())\n",
    "    empirical(p=p_empirical, until=until, n_service=queueing.service, len_n = len(queueing.worker_busy))\n",
    "    theoretical(l=l, mu=mu, v=v, gamma=gamma)\n"
   ],
   "metadata": {
    "collapsed": false,
    "pycharm": {
     "name": "#%%\n"
    }
   }
  },
  {
   "cell_type": "code",
   "execution_count": 35,
   "outputs": [
    {
     "name": "stdout",
     "output_type": "stream",
     "text": [
      "empirical\n"
     ]
    },
    {
     "data": {
      "text/plain": "<IPython.core.display.Math object>",
      "text/latex": "$\\displaystyle \\text{ Финальные вероятности состояний }$"
     },
     "metadata": {},
     "output_type": "display_data"
    },
    {
     "data": {
      "text/plain": "<IPython.core.display.Math object>",
      "text/latex": "$\\displaystyle s_{0}=0.2624003675662718$"
     },
     "metadata": {},
     "output_type": "display_data"
    },
    {
     "data": {
      "text/plain": "<IPython.core.display.Math object>",
      "text/latex": "$\\displaystyle s_{1}=0.2921302862622106$"
     },
     "metadata": {},
     "output_type": "display_data"
    },
    {
     "data": {
      "text/plain": "<IPython.core.display.Math object>",
      "text/latex": "$\\displaystyle s_{2}=0.4454693461715176$"
     },
     "metadata": {},
     "output_type": "display_data"
    },
    {
     "data": {
      "text/plain": "<IPython.core.display.Math object>",
      "text/latex": "$\\displaystyle \\text{ Относительная пропускная способность равна }$"
     },
     "metadata": {},
     "output_type": "display_data"
    },
    {
     "data": {
      "text/plain": "<IPython.core.display.Math object>",
      "text/latex": "$\\displaystyle Q=0.17493357837751453$"
     },
     "metadata": {},
     "output_type": "display_data"
    },
    {
     "data": {
      "text/plain": "<IPython.core.display.Math object>",
      "text/latex": "$\\displaystyle \\text{Абсолютная пропускная способность}$"
     },
     "metadata": {},
     "output_type": "display_data"
    },
    {
     "data": {
      "text/plain": "<IPython.core.display.Math object>",
      "text/latex": "$\\displaystyle A=3.5028$"
     },
     "metadata": {},
     "output_type": "display_data"
    },
    {
     "name": "stdout",
     "output_type": "stream",
     "text": [
      "Theoretical\n"
     ]
    },
    {
     "data": {
      "text/plain": "<IPython.core.display.Math object>",
      "text/latex": "$\\displaystyle \\text{ Финальные вероятности состояний }$"
     },
     "metadata": {},
     "output_type": "display_data"
    },
    {
     "data": {
      "text/plain": "<IPython.core.display.Math object>",
      "text/latex": "$\\displaystyle s_{0}=\\{1+\\lambda /(\\mu+\\nu)+\\lambda \\nu /[\\gamma(\\mu+\\nu)]\\}^{-1}=0.2647058823529412$"
     },
     "metadata": {},
     "output_type": "display_data"
    },
    {
     "data": {
      "text/plain": "<IPython.core.display.Math object>",
      "text/latex": "$\\displaystyle s_{1}=\\frac{\\lambda}{\\mu+\\nu} p_{0}=0.29411764705882354$"
     },
     "metadata": {},
     "output_type": "display_data"
    },
    {
     "data": {
      "text/plain": "<IPython.core.display.Math object>",
      "text/latex": "$\\displaystyle s_{2}=\\frac{\\nu}{\\gamma} p_{1}=0.4411764705882353$"
     },
     "metadata": {},
     "output_type": "display_data"
    },
    {
     "data": {
      "text/plain": "<IPython.core.display.Math object>",
      "text/latex": "$\\displaystyle \\text{ Относительная пропускная способность равна }$"
     },
     "metadata": {},
     "output_type": "display_data"
    },
    {
     "data": {
      "text/plain": "<IPython.core.display.Math object>",
      "text/latex": "$\\displaystyle Q=\\frac{\\mu \\nu}{\\mu \\nu+v \\nu+\\nu \\lambda+v \\lambda}=0.17647058823529413$"
     },
     "metadata": {},
     "output_type": "display_data"
    },
    {
     "data": {
      "text/plain": "<IPython.core.display.Math object>",
      "text/latex": "$\\displaystyle \\text{Абсолютная пропускная способность}$"
     },
     "metadata": {},
     "output_type": "display_data"
    },
    {
     "data": {
      "text/plain": "<IPython.core.display.Math object>",
      "text/latex": "$\\displaystyle A=\\lambda Q=3.5294117647058827$"
     },
     "metadata": {},
     "output_type": "display_data"
    }
   ],
   "source": [
    "main(l=20, mu=12, v=6, gamma=4, until=10000)"
   ],
   "metadata": {
    "collapsed": false,
    "pycharm": {
     "name": "#%%\n"
    }
   }
  }
 ],
 "metadata": {
  "kernelspec": {
   "display_name": "Python 3",
   "language": "python",
   "name": "python3"
  },
  "language_info": {
   "codemirror_mode": {
    "name": "ipython",
    "version": 2
   },
   "file_extension": ".py",
   "mimetype": "text/x-python",
   "name": "python",
   "nbconvert_exporter": "python",
   "pygments_lexer": "ipython2",
   "version": "2.7.6"
  }
 },
 "nbformat": 4,
 "nbformat_minor": 0
}