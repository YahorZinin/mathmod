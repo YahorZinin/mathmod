{
 "cells": [
  {
   "cell_type": "code",
   "execution_count": 1,
   "metadata": {
    "collapsed": true
   },
   "outputs": [],
   "source": [
    "from IPython.display import display, Math\n",
    "from collections import Counter\n",
    "from collections import OrderedDict\n",
    "\n",
    "import math\n",
    "import simpy\n",
    "import numpy as np\n",
    "import seaborn as sns\n",
    "import matplotlib.pyplot as plt"
   ]
  },
  {
   "cell_type": "code",
   "execution_count": 2,
   "outputs": [],
   "source": [
    "def ro_i(ro, i):\n",
    "    return ro ** i / math.factorial(i)"
   ],
   "metadata": {
    "collapsed": false,
    "pycharm": {
     "name": "#%%\n"
    }
   }
  },
  {
   "cell_type": "code",
   "execution_count": 3,
   "outputs": [],
   "source": [
    "def split_list(alist, wanted_parts=1):\n",
    "    length = len(alist)\n",
    "    return [alist[i * length // wanted_parts: (i + 1) * length // wanted_parts]\n",
    "            for i in range(wanted_parts)]"
   ],
   "metadata": {
    "collapsed": false,
    "pycharm": {
     "name": "#%%\n"
    }
   }
  },
  {
   "cell_type": "code",
   "execution_count": 5,
   "outputs": [],
   "source": [
    "def theoretical(n, m, l, mu, v):\n",
    "    ro, betta = l / mu, v / mu\n",
    "\n",
    "    p = [(1 + sum([ro_i(ro, i) for i in range(1, n + 1)]) + ro_i(ro, n)\n",
    "          * sum([ro ** i / np.prod([n + l * betta for l in range(1, i + 1)]) for i in range(1, m + 1)])) ** -1]\n",
    "    for i in range(1, n + 1):\n",
    "        pn = ro_i(ro, i) * p[0]\n",
    "        p.append(pn)\n",
    "\n",
    "    for i in range(1, m + 1):\n",
    "        pni = p[n] * (ro ** i / np.prod([n + l * betta for l in range(1, i + 1)]))\n",
    "        p.append(pni)\n",
    "    # Вероятность образования очереди р_оч определяется формулой\n",
    "    p_queue = p[n] + p[n + 1]\n",
    "    # Вероятность отказа в обслуживании р_отк равна\n",
    "    p_refusal = p[n + m]\n",
    "    # Относительная пропускная способность Q равна\n",
    "    Q = 1 - p_refusal\n",
    "    # Абсолютная пропускная способность A равна\n",
    "    A = l * Q\n",
    "    # Среднее число заявок, находящихся в очереди, находится по формуле\n",
    "    L_queue = sum([i * p[n + i] for i in range(1, m + 1)])\n",
    "    # Среднее число заявок, обслуживаемых в СМО, находится по формуле\n",
    "    L_service = sum([k * p[k] for k in range(1, n + 1)]) + sum([(n + i) * p[n + i] for i in range(1, m + 1)])\n",
    "    # Среднее число занятых каналов\n",
    "    n_avr_busy_workers = A / mu\n",
    "    # Среднее время ожидания заявки в очереди\n",
    "    t_queue = L_queue / l\n",
    "    # Среднее время пребывания заявки в системе\n",
    "    t_total = L_service / l\n",
    "\n",
    "    print('Theoretical')\n",
    "    display(Math(r'\\text{ Финальные вероятности состояний }'))\n",
    "    display(Math(\n",
    "        r'p_{0}=\\left(1+\\frac{\\rho}{1 !}+\\frac{\\rho^{2}}{2 !}+\\ldots+\\frac{\\rho^{n}}{n !}+\\frac{\\rho^{n}}{n !} \\cdot \\sum_{i=1}^{m} \\frac{\\rho^{i}}{\\prod_{l=1}^{i}(n+l \\beta)}\\right)^{-1}=' + str(\n",
    "            p[0])))\n",
    "    display(Math(r'p_{k}=\\frac{\\rho^{k}}{k !} \\cdot p_{0}, \\quad(k=\\overline{1, n})'))\n",
    "    for i in range(1, n + 1):\n",
    "        display(Math(f'p_{i}=' + str(p[i])))\n",
    "    display(Math(r'p_{n+i}=p_{n} \\cdot \\frac{\\rho^{i}}{\\prod_{l=1}^{i}(n+l \\beta)}, \\quad(i=\\overline{1, m})'))\n",
    "    for i in range(n + 1, n + m + 1):\n",
    "        display(Math(f'p_{i}=' + str(p[i])))\n",
    "    display(Math(r'\\text{Вероятность образования очереди определяется формулой}'))\n",
    "    display(Math(\n",
    "        r'p_{оч}=\\sum_{i=0}^{m=1} p_{n+i}=p_{n} \\cdot\\left(1+\\sum_{i=1}^{m-1} \\frac{\\rho^{i}}{\\prod_{l=1}^{i}(n+l \\beta)}\\right)=' + str(\n",
    "            p_queue)))\n",
    "    display(Math(\n",
    "        r'\\text{Отказ в обслуживании заявки происходит, когда все m мест в очереди заняты, т.е. вероятность отказа в обслуживании равна}'))\n",
    "    display(Math(r'p_{o m \\kappa}=p_{n+m}=p_{n} \\cdot \\frac{\\rho^{m}}{\\prod_{l=1}^{m}(n+l \\beta)}=' + str(p_refusal)))\n",
    "    display(Math(r'\\text{ Относительная пропускная способность равна }'))\n",
    "    display(Math(\n",
    "        r'Q=p_{\\text {oбc. }}=1-p_{\\text {отк. }}=1-p_{n} \\cdot \\frac{\\rho^{m}}{\\prod_{l=1}^{m}(n+l \\beta)}=' + str(Q)))\n",
    "    display(Math(r'\\text{Абсолютная пропускная способность}'))\n",
    "    display(Math(r'A=\\lambda Q=' + str(A)))\n",
    "    display(Math(r'\\text{Среднее число заявок, находящихся в очереди, находится по формуле}'))\n",
    "    display(Math(\n",
    "        r'L_{oч}=\\sum_{i=1}^{m} i p_{n+i}=p_{n} \\cdot \\sum_{i=1}^{m} \\frac{i \\cdot \\rho^{i}}{\\prod_{l=1}^{i}(n+l \\beta)}=' + str(\n",
    "            L_queue)))\n",
    "    display(Math(r'\\text{Среднее число заявок, обслуживаемых в СМО, находится по формуле}'))\n",
    "    display(Math(r'L_{o б c}=\\sum_{k=1}^{n} k \\cdot p_{k}+\\sum_{i=1}^{m} n \\cdot p_{n+i}=' + str(L_service)))\n",
    "    display(Math(r'\\text{ Среднее число занятых каналов }'))\n",
    "    display(Math(r'\\bar{k}=\\frac{A}{\\mu}=' + str(n_avr_busy_workers)))\n",
    "    display(Math(r'\\text{ Среднее время ожидания заявки в очереди }'))\n",
    "    display(Math(r't=\\frac{L}{\\lambda}=' + str(t_queue)))\n",
    "    display(Math(r'\\text{ Среднее время пребывания заявки в системе }'))\n",
    "    display(Math(r'T=t+\\frac{1}{\\mu},=' + str(t_total)))\n",
    "\n",
    "    return p\n",
    "\n"
   ],
   "metadata": {
    "collapsed": false,
    "pycharm": {
     "name": "#%%\n"
    }
   }
  },
  {
   "cell_type": "code",
   "execution_count": 117,
   "outputs": [],
   "source": [
    "def empirical(\n",
    "        time_spent_in_queue, time_spent_in_system,\n",
    "        counter_users_in_queue, counter_users_in_system,\n",
    "        n, m, n_service, n_not_service, until,\n",
    "):\n",
    "    print('Empirical')\n",
    "    p = [v / len(counter_users_in_system) for _, v in dict(Counter(counter_users_in_system)).items()]\n",
    "    # Вероятность образования очереди р_оч определяется формулой\n",
    "    p_queue = p[n] + p[n + 1]\n",
    "    # Вероятность отказа в обслуживании р_отк равна\n",
    "    p_refusal = p[n + m]\n",
    "    # Относительная пропускная способность Q равна\n",
    "    Q = 1 - p_refusal\n",
    "    # Абсолютная пропускная способность A равна\n",
    "    A = n_not_service  / until\n",
    "    # Среднее число заявок, находящихся в очереди, находится по формуле\n",
    "    L_queue = sum([p[i] * (i - n) for i in range(n + 1, n + m + 1)])\n",
    "    # Среднее число заявок, обслуживаемых в СМО, находится по формуле\n",
    "    L_service = sum([k * p[k] for k in range(1, n + 1)]) + sum([(n + i) * p[n + i] for i in range(1, m + 1)])\n",
    "    # Среднее число занятых каналов\n",
    "    n_avr_busy_workers = sum([p[i] * i for i in range(n + m + 1)])\n",
    "    # Среднее время ожидания заявки в очереди\n",
    "    t_queue = sum(time_spent_in_queue) / len(time_spent_in_queue)\n",
    "    # Среднее время пребывания заявки в системе\n",
    "    t_total = sum(time_spent_in_system) / len(time_spent_in_system)\n",
    "\n",
    "    display(Math(r'\\text{ Финальные вероятности состояний }'))\n",
    "    for i in range(0, n + m + 1):\n",
    "        display(Math(f'p_{i}=' + str(p[i])))\n",
    "    display(Math(r'\\text{Вероятность образования очереди определяется формулой}'))\n",
    "    display(Math(r'p_{оч}=' + str(p_queue)))\n",
    "    display(Math(r'\\text{Вероятность отказа в обслуживании равна}'))\n",
    "    display(Math(r'p_{o m \\kappa}=' + str(p_refusal)))\n",
    "    display(Math(r'\\text{ Относительная пропускная способность равна }'))\n",
    "    display(Math(r'Q=' + str(Q)))\n",
    "    display(Math(r'\\text{Абсолютная пропускная способность}'))\n",
    "    display(Math(r'A=' + str(A)))\n",
    "    display(Math(r'\\text{Среднее число заявок, находящихся в очереди, находится по формуле}'))\n",
    "    display(Math(r'L_{oч}=' + str(L_queue)))\n",
    "    display(Math(r'\\text{Среднее число заявок, находящихся в СМО, находится по формуле}'))\n",
    "    display(Math(r'L_{o б c}=' + str(L_service)))\n",
    "    display(Math(r'\\text{ Среднее число занятых каналов }'))\n",
    "    display(Math(r'\\bar{k}=' + str(n_avr_busy_workers)))\n",
    "    display(Math(r'\\text{ Среднее время ожидания заявки в очереди }'))\n",
    "    display(Math(r't=' + str(t_queue)))\n",
    "    display(Math(r'\\text{ Среднее время пребывания заявки в системе }'))\n",
    "    display(Math(r'T=' + str(t_total)))"
   ],
   "metadata": {
    "collapsed": false,
    "pycharm": {
     "name": "#%%\n"
    }
   }
  },
  {
   "cell_type": "code",
   "execution_count": 118,
   "outputs": [],
   "source": [
    "class Queueing(object):\n",
    "    def __init__(self, env, n, m, l, mu, v):\n",
    "        self.mu, self.v, self.env = mu, v, env\n",
    "        self.n, self.m, self.l = n, m, l\n",
    "        self.worker = simpy.Resource(env, n)\n",
    "        self.time_spent_in_queue, self.time_spent_in_system = [], []\n",
    "        self.counter_users_in_queue, self.counter_users_in_system = [], []\n",
    "        self.n, self.n_service = 0, 0\n",
    "\n",
    "    def service_request(self):\n",
    "        yield self.env.timeout(np.random.exponential(1 / self.mu))\n"
   ],
   "metadata": {
    "collapsed": false,
    "pycharm": {
     "name": "#%%\n"
    }
   }
  },
  {
   "cell_type": "code",
   "execution_count": 119,
   "outputs": [],
   "source": [
    "def make_request(env, queueing):\n",
    "    start_time = env.now\n",
    "    len_queue = len(queueing.worker.queue)\n",
    "    worker_busy = queueing.worker.count\n",
    "    with queueing.worker.request() as request:\n",
    "        queueing.counter_users_in_queue.append(len_queue)\n",
    "        queueing.counter_users_in_system.append(len_queue + worker_busy)\n",
    "        if len(queueing.worker.queue) <= queueing.m:\n",
    "            queueing.n += 1\n",
    "            patience = np.random.exponential(1 / queueing.v)\n",
    "            result = yield request | env.timeout(patience)\n",
    "            queueing.time_spent_in_queue.append(env.now - start_time)\n",
    "            if request in result:\n",
    "                yield env.process(queueing.service_request())\n",
    "                queueing.n_service += 1\n",
    "            queueing.time_spent_in_system.append(env.now - start_time)\n",
    "        else:\n",
    "            queueing.time_spent_in_queue.append(0)\n",
    "            queueing.time_spent_in_system.append(0)\n"
   ],
   "metadata": {
    "collapsed": false,
    "pycharm": {
     "name": "#%%\n"
    }
   }
  },
  {
   "cell_type": "code",
   "execution_count": 120,
   "outputs": [],
   "source": [
    "def run_queuing(env, queueing):\n",
    "    while True:\n",
    "        yield env.timeout(np.random.exponential(1 / queueing.l))\n",
    "        env.process(make_request(env=env, queueing=queueing))"
   ],
   "metadata": {
    "collapsed": false,
    "pycharm": {
     "name": "#%%\n"
    }
   }
  },
  {
   "cell_type": "code",
   "execution_count": 121,
   "outputs": [],
   "source": [
    "def show_histogram(values: np.arange, component_name: str, theoretical) -> None:\n",
    "    sns.set_style(\"darkgrid\")\n",
    "    plt.figure(dpi=120, figsize=(8, 5))\n",
    "    plt.bar(list(range(len(values))), values, color=sns.color_palette('deep')[2], linewidth=0)\n",
    "    plt.title(\"Histogram of \" + component_name )\n",
    "    plt.xlabel(\"кол-во времени\")\n",
    "    plt.ylabel(\"Вероятность\")\n",
    "    plt.hlines(theoretical, 0, 60)\n",
    "    # sns.histplot(values, palette='deep', color=sns.color_palette('deep')[1], linewidth=2, binwidth=0.4)\n",
    "    # plt.legend((theoretical + \"- theoretical\", ''))\n",
    "    plt.legend([str(theoretical) + \" - theoretical\", component_name,])\n",
    "    plt.show()"
   ],
   "metadata": {
    "collapsed": false,
    "pycharm": {
     "name": "#%%\n"
    }
   }
  },
  {
   "cell_type": "code",
   "source": [
    "def main(n, m, l, mu, v, until, plot=False):\n",
    "    env = simpy.Environment()\n",
    "    queueing = Queueing(n=n, m=m, l=l, mu=mu, v=v, env=env)\n",
    "    env.process(run_queuing(env=env, queueing=queueing))\n",
    "    env.run(until=until)\n",
    "    p = theoretical(n=n, m=m, l=l, mu=mu, v=v)\n",
    "    empirical(\n",
    "        time_spent_in_queue=queueing.time_spent_in_queue,\n",
    "        time_spent_in_system=queueing.time_spent_in_system,\n",
    "        counter_users_in_queue=queueing.counter_users_in_queue,\n",
    "        counter_users_in_system=queueing.counter_users_in_system,\n",
    "        n=n, m=m, n_service=queueing.n_service, n_not_service=queueing.n,\n",
    "        until=until,\n",
    "    )\n",
    "    if plot:\n",
    "        parts = split_list(queueing.counter_users_in_system, wanted_parts=60)\n",
    "        for i in range(1, len(parts)):\n",
    "            parts[i].extend(parts[i - 1])\n",
    "        P = []\n",
    "        for part in parts:\n",
    "            P.append(np.array(\n",
    "                list(v / len(part) for _, v in dict(OrderedDict(sorted(dict(Counter(part)).items()))).items())))\n",
    "        P = np.array(P).transpose()\n",
    "        for i in range(n + m + 1):\n",
    "            show_histogram(P[i], f\"p{i}\", p[i])"
   ],
   "metadata": {
    "collapsed": false,
    "pycharm": {
     "name": "#%%\n"
    }
   },
   "execution_count": 122,
   "outputs": []
  },
  {
   "cell_type": "code",
   "execution_count": 123,
   "outputs": [
    {
     "name": "stdout",
     "output_type": "stream",
     "text": [
      "Theoretical\n"
     ]
    },
    {
     "data": {
      "text/plain": "<IPython.core.display.Math object>",
      "text/latex": "$\\displaystyle \\text{ Финальные вероятности состояний }$"
     },
     "metadata": {},
     "output_type": "display_data"
    },
    {
     "data": {
      "text/plain": "<IPython.core.display.Math object>",
      "text/latex": "$\\displaystyle p_{0}=\\left(1+\\frac{\\rho}{1 !}+\\frac{\\rho^{2}}{2 !}+\\ldots+\\frac{\\rho^{n}}{n !}+\\frac{\\rho^{n}}{n !} \\cdot \\sum_{i=1}^{m} \\frac{\\rho^{i}}{\\prod_{l=1}^{i}(n+l \\beta)}\\right)^{-1}=0.4$"
     },
     "metadata": {},
     "output_type": "display_data"
    },
    {
     "data": {
      "text/plain": "<IPython.core.display.Math object>",
      "text/latex": "$\\displaystyle p_{k}=\\frac{\\rho^{k}}{k !} \\cdot p_{0}, \\quad(k=\\overline{1, n})$"
     },
     "metadata": {},
     "output_type": "display_data"
    },
    {
     "data": {
      "text/plain": "<IPython.core.display.Math object>",
      "text/latex": "$\\displaystyle p_1=0.4$"
     },
     "metadata": {},
     "output_type": "display_data"
    },
    {
     "data": {
      "text/plain": "<IPython.core.display.Math object>",
      "text/latex": "$\\displaystyle p_{n+i}=p_{n} \\cdot \\frac{\\rho^{i}}{\\prod_{l=1}^{i}(n+l \\beta)}, \\quad(i=\\overline{1, m})$"
     },
     "metadata": {},
     "output_type": "display_data"
    },
    {
     "data": {
      "text/plain": "<IPython.core.display.Math object>",
      "text/latex": "$\\displaystyle p_2=0.2$"
     },
     "metadata": {},
     "output_type": "display_data"
    },
    {
     "data": {
      "text/plain": "<IPython.core.display.Math object>",
      "text/latex": "$\\displaystyle \\text{Вероятность образования очереди определяется формулой}$"
     },
     "metadata": {},
     "output_type": "display_data"
    },
    {
     "data": {
      "text/plain": "<IPython.core.display.Math object>",
      "text/latex": "$\\displaystyle p_{оч}=\\sum_{i=0}^{m=1} p_{n+i}=p_{n} \\cdot\\left(1+\\sum_{i=1}^{m-1} \\frac{\\rho^{i}}{\\prod_{l=1}^{i}(n+l \\beta)}\\right)=0.6000000000000001$"
     },
     "metadata": {},
     "output_type": "display_data"
    },
    {
     "data": {
      "text/plain": "<IPython.core.display.Math object>",
      "text/latex": "$\\displaystyle \\text{Отказ в обслуживании заявки происходит, когда все m мест в очереди заняты, т.е. вероятность отказа в обслуживании равна}$"
     },
     "metadata": {},
     "output_type": "display_data"
    },
    {
     "data": {
      "text/plain": "<IPython.core.display.Math object>",
      "text/latex": "$\\displaystyle p_{o m \\kappa}=p_{n+m}=p_{n} \\cdot \\frac{\\rho^{m}}{\\prod_{l=1}^{m}(n+l \\beta)}=0.2$"
     },
     "metadata": {},
     "output_type": "display_data"
    },
    {
     "data": {
      "text/plain": "<IPython.core.display.Math object>",
      "text/latex": "$\\displaystyle \\text{ Относительная пропускная способность равна }$"
     },
     "metadata": {},
     "output_type": "display_data"
    },
    {
     "data": {
      "text/plain": "<IPython.core.display.Math object>",
      "text/latex": "$\\displaystyle Q=p_{\\text {oбc. }}=1-p_{\\text {отк. }}=1-p_{n} \\cdot \\frac{\\rho^{m}}{\\prod_{l=1}^{m}(n+l \\beta)}=0.8$"
     },
     "metadata": {},
     "output_type": "display_data"
    },
    {
     "data": {
      "text/plain": "<IPython.core.display.Math object>",
      "text/latex": "$\\displaystyle \\text{Абсолютная пропускная способность}$"
     },
     "metadata": {},
     "output_type": "display_data"
    },
    {
     "data": {
      "text/plain": "<IPython.core.display.Math object>",
      "text/latex": "$\\displaystyle A=\\lambda Q=0.8$"
     },
     "metadata": {},
     "output_type": "display_data"
    },
    {
     "data": {
      "text/plain": "<IPython.core.display.Math object>",
      "text/latex": "$\\displaystyle \\text{Среднее число заявок, находящихся в очереди, находится по формуле}$"
     },
     "metadata": {},
     "output_type": "display_data"
    },
    {
     "data": {
      "text/plain": "<IPython.core.display.Math object>",
      "text/latex": "$\\displaystyle L_{oч}=\\sum_{i=1}^{m} i p_{n+i}=p_{n} \\cdot \\sum_{i=1}^{m} \\frac{i \\cdot \\rho^{i}}{\\prod_{l=1}^{i}(n+l \\beta)}=0.2$"
     },
     "metadata": {},
     "output_type": "display_data"
    },
    {
     "data": {
      "text/plain": "<IPython.core.display.Math object>",
      "text/latex": "$\\displaystyle \\text{Среднее число заявок, обслуживаемых в СМО, находится по формуле}$"
     },
     "metadata": {},
     "output_type": "display_data"
    },
    {
     "data": {
      "text/plain": "<IPython.core.display.Math object>",
      "text/latex": "$\\displaystyle L_{o б c}=\\sum_{k=1}^{n} k \\cdot p_{k}+\\sum_{i=1}^{m} n \\cdot p_{n+i}=0.8$"
     },
     "metadata": {},
     "output_type": "display_data"
    },
    {
     "data": {
      "text/plain": "<IPython.core.display.Math object>",
      "text/latex": "$\\displaystyle \\text{ Среднее число занятых каналов }$"
     },
     "metadata": {},
     "output_type": "display_data"
    },
    {
     "data": {
      "text/plain": "<IPython.core.display.Math object>",
      "text/latex": "$\\displaystyle \\bar{k}=\\frac{A}{\\mu}=0.8$"
     },
     "metadata": {},
     "output_type": "display_data"
    },
    {
     "data": {
      "text/plain": "<IPython.core.display.Math object>",
      "text/latex": "$\\displaystyle \\text{ Среднее время ожидания заявки в очереди }$"
     },
     "metadata": {},
     "output_type": "display_data"
    },
    {
     "data": {
      "text/plain": "<IPython.core.display.Math object>",
      "text/latex": "$\\displaystyle t=\\frac{L}{\\lambda}=0.2$"
     },
     "metadata": {},
     "output_type": "display_data"
    },
    {
     "data": {
      "text/plain": "<IPython.core.display.Math object>",
      "text/latex": "$\\displaystyle \\text{ Среднее время пребывания заявки в системе }$"
     },
     "metadata": {},
     "output_type": "display_data"
    },
    {
     "data": {
      "text/plain": "<IPython.core.display.Math object>",
      "text/latex": "$\\displaystyle T=t+\\frac{1}{\\mu},=0.8$"
     },
     "metadata": {},
     "output_type": "display_data"
    },
    {
     "name": "stdout",
     "output_type": "stream",
     "text": [
      "Empirical\n"
     ]
    },
    {
     "data": {
      "text/plain": "<IPython.core.display.Math object>",
      "text/latex": "$\\displaystyle \\text{ Финальные вероятности состояний }$"
     },
     "metadata": {},
     "output_type": "display_data"
    },
    {
     "data": {
      "text/plain": "<IPython.core.display.Math object>",
      "text/latex": "$\\displaystyle p_0=0.4023409669211196$"
     },
     "metadata": {},
     "output_type": "display_data"
    },
    {
     "data": {
      "text/plain": "<IPython.core.display.Math object>",
      "text/latex": "$\\displaystyle p_1=0.3940966921119593$"
     },
     "metadata": {},
     "output_type": "display_data"
    },
    {
     "data": {
      "text/plain": "<IPython.core.display.Math object>",
      "text/latex": "$\\displaystyle p_2=0.2035623409669211$"
     },
     "metadata": {},
     "output_type": "display_data"
    },
    {
     "data": {
      "text/plain": "<IPython.core.display.Math object>",
      "text/latex": "$\\displaystyle \\text{Вероятность образования очереди определяется формулой}$"
     },
     "metadata": {},
     "output_type": "display_data"
    },
    {
     "data": {
      "text/plain": "<IPython.core.display.Math object>",
      "text/latex": "$\\displaystyle p_{оч}=0.5976590330788805$"
     },
     "metadata": {},
     "output_type": "display_data"
    },
    {
     "data": {
      "text/plain": "<IPython.core.display.Math object>",
      "text/latex": "$\\displaystyle \\text{Вероятность отказа в обслуживании равна}$"
     },
     "metadata": {},
     "output_type": "display_data"
    },
    {
     "data": {
      "text/plain": "<IPython.core.display.Math object>",
      "text/latex": "$\\displaystyle p_{o m \\kappa}=0.2035623409669211$"
     },
     "metadata": {},
     "output_type": "display_data"
    },
    {
     "data": {
      "text/plain": "<IPython.core.display.Math object>",
      "text/latex": "$\\displaystyle \\text{ Относительная пропускная способность равна }$"
     },
     "metadata": {},
     "output_type": "display_data"
    },
    {
     "data": {
      "text/plain": "<IPython.core.display.Math object>",
      "text/latex": "$\\displaystyle Q=0.7964376590330788$"
     },
     "metadata": {},
     "output_type": "display_data"
    },
    {
     "data": {
      "text/plain": "<IPython.core.display.Math object>",
      "text/latex": "$\\displaystyle \\text{Абсолютная пропускная способность}$"
     },
     "metadata": {},
     "output_type": "display_data"
    },
    {
     "data": {
      "text/plain": "<IPython.core.display.Math object>",
      "text/latex": "$\\displaystyle A=0.7825$"
     },
     "metadata": {},
     "output_type": "display_data"
    },
    {
     "data": {
      "text/plain": "<IPython.core.display.Math object>",
      "text/latex": "$\\displaystyle \\text{Среднее число заявок, находящихся в очереди, находится по формуле}$"
     },
     "metadata": {},
     "output_type": "display_data"
    },
    {
     "data": {
      "text/plain": "<IPython.core.display.Math object>",
      "text/latex": "$\\displaystyle L_{oч}=0.2035623409669211$"
     },
     "metadata": {},
     "output_type": "display_data"
    },
    {
     "data": {
      "text/plain": "<IPython.core.display.Math object>",
      "text/latex": "$\\displaystyle \\text{Среднее число заявок, находящихся в СМО, находится по формуле}$"
     },
     "metadata": {},
     "output_type": "display_data"
    },
    {
     "data": {
      "text/plain": "<IPython.core.display.Math object>",
      "text/latex": "$\\displaystyle L_{o б c}=0.8012213740458015$"
     },
     "metadata": {},
     "output_type": "display_data"
    },
    {
     "data": {
      "text/plain": "<IPython.core.display.Math object>",
      "text/latex": "$\\displaystyle \\text{ Среднее число занятых каналов }$"
     },
     "metadata": {},
     "output_type": "display_data"
    },
    {
     "data": {
      "text/plain": "<IPython.core.display.Math object>",
      "text/latex": "$\\displaystyle \\bar{k}=0.8012213740458015$"
     },
     "metadata": {},
     "output_type": "display_data"
    },
    {
     "data": {
      "text/plain": "<IPython.core.display.Math object>",
      "text/latex": "$\\displaystyle \\text{ Среднее время ожидания заявки в очереди }$"
     },
     "metadata": {},
     "output_type": "display_data"
    },
    {
     "data": {
      "text/plain": "<IPython.core.display.Math object>",
      "text/latex": "$\\displaystyle t=0.20073059328349116$"
     },
     "metadata": {},
     "output_type": "display_data"
    },
    {
     "data": {
      "text/plain": "<IPython.core.display.Math object>",
      "text/latex": "$\\displaystyle \\text{ Среднее время пребывания заявки в системе }$"
     },
     "metadata": {},
     "output_type": "display_data"
    },
    {
     "data": {
      "text/plain": "<IPython.core.display.Math object>",
      "text/latex": "$\\displaystyle T=0.7997882785542183$"
     },
     "metadata": {},
     "output_type": "display_data"
    }
   ],
   "source": [
    "main(n=1, m=1, l=1, mu=1, v=1, until=10000)"
   ],
   "metadata": {
    "collapsed": false,
    "pycharm": {
     "name": "#%%\n"
    }
   }
  },
  {
   "cell_type": "code",
   "execution_count": 128,
   "outputs": [
    {
     "name": "stdout",
     "output_type": "stream",
     "text": [
      "Theoretical\n"
     ]
    },
    {
     "data": {
      "text/plain": "<IPython.core.display.Math object>",
      "text/latex": "$\\displaystyle \\text{ Финальные вероятности состояний }$"
     },
     "metadata": {},
     "output_type": "display_data"
    },
    {
     "data": {
      "text/plain": "<IPython.core.display.Math object>",
      "text/latex": "$\\displaystyle p_{0}=\\left(1+\\frac{\\rho}{1 !}+\\frac{\\rho^{2}}{2 !}+\\ldots+\\frac{\\rho^{n}}{n !}+\\frac{\\rho^{n}}{n !} \\cdot \\sum_{i=1}^{m} \\frac{\\rho^{i}}{\\prod_{l=1}^{i}(n+l \\beta)}\\right)^{-1}=0.4345103177971016$"
     },
     "metadata": {},
     "output_type": "display_data"
    },
    {
     "data": {
      "text/plain": "<IPython.core.display.Math object>",
      "text/latex": "$\\displaystyle p_{k}=\\frac{\\rho^{k}}{k !} \\cdot p_{0}, \\quad(k=\\overline{1, n})$"
     },
     "metadata": {},
     "output_type": "display_data"
    },
    {
     "data": {
      "text/plain": "<IPython.core.display.Math object>",
      "text/latex": "$\\displaystyle p_1=0.3620919314975847$"
     },
     "metadata": {},
     "output_type": "display_data"
    },
    {
     "data": {
      "text/plain": "<IPython.core.display.Math object>",
      "text/latex": "$\\displaystyle p_2=0.15087163812399362$"
     },
     "metadata": {},
     "output_type": "display_data"
    },
    {
     "data": {
      "text/plain": "<IPython.core.display.Math object>",
      "text/latex": "$\\displaystyle p_3=0.04190878836777601$"
     },
     "metadata": {},
     "output_type": "display_data"
    },
    {
     "data": {
      "text/plain": "<IPython.core.display.Math object>",
      "text/latex": "$\\displaystyle p_4=0.008730997576620003$"
     },
     "metadata": {},
     "output_type": "display_data"
    },
    {
     "data": {
      "text/plain": "<IPython.core.display.Math object>",
      "text/latex": "$\\displaystyle p_{n+i}=p_{n} \\cdot \\frac{\\rho^{i}}{\\prod_{l=1}^{i}(n+l \\beta)}, \\quad(i=\\overline{1, m})$"
     },
     "metadata": {},
     "output_type": "display_data"
    },
    {
     "data": {
      "text/plain": "<IPython.core.display.Math object>",
      "text/latex": "$\\displaystyle p_5=0.0016168514030777785$"
     },
     "metadata": {},
     "output_type": "display_data"
    },
    {
     "data": {
      "text/plain": "<IPython.core.display.Math object>",
      "text/latex": "$\\displaystyle p_6=0.0002694752338462964$"
     },
     "metadata": {},
     "output_type": "display_data"
    },
    {
     "data": {
      "text/plain": "<IPython.core.display.Math object>",
      "text/latex": "$\\displaystyle \\text{Вероятность образования очереди определяется формулой}$"
     },
     "metadata": {},
     "output_type": "display_data"
    },
    {
     "data": {
      "text/plain": "<IPython.core.display.Math object>",
      "text/latex": "$\\displaystyle p_{оч}=\\sum_{i=0}^{m=1} p_{n+i}=p_{n} \\cdot\\left(1+\\sum_{i=1}^{m-1} \\frac{\\rho^{i}}{\\prod_{l=1}^{i}(n+l \\beta)}\\right)=0.010347848979697781$"
     },
     "metadata": {},
     "output_type": "display_data"
    },
    {
     "data": {
      "text/plain": "<IPython.core.display.Math object>",
      "text/latex": "$\\displaystyle \\text{Отказ в обслуживании заявки происходит, когда все m мест в очереди заняты, т.е. вероятность отказа в обслуживании равна}$"
     },
     "metadata": {},
     "output_type": "display_data"
    },
    {
     "data": {
      "text/plain": "<IPython.core.display.Math object>",
      "text/latex": "$\\displaystyle p_{o m \\kappa}=p_{n+m}=p_{n} \\cdot \\frac{\\rho^{m}}{\\prod_{l=1}^{m}(n+l \\beta)}=0.0002694752338462964$"
     },
     "metadata": {},
     "output_type": "display_data"
    },
    {
     "data": {
      "text/plain": "<IPython.core.display.Math object>",
      "text/latex": "$\\displaystyle \\text{ Относительная пропускная способность равна }$"
     },
     "metadata": {},
     "output_type": "display_data"
    },
    {
     "data": {
      "text/plain": "<IPython.core.display.Math object>",
      "text/latex": "$\\displaystyle Q=p_{\\text {oбc. }}=1-p_{\\text {отк. }}=1-p_{n} \\cdot \\frac{\\rho^{m}}{\\prod_{l=1}^{m}(n+l \\beta)}=0.9997305247661536$"
     },
     "metadata": {},
     "output_type": "display_data"
    },
    {
     "data": {
      "text/plain": "<IPython.core.display.Math object>",
      "text/latex": "$\\displaystyle \\text{Абсолютная пропускная способность}$"
     },
     "metadata": {},
     "output_type": "display_data"
    },
    {
     "data": {
      "text/plain": "<IPython.core.display.Math object>",
      "text/latex": "$\\displaystyle A=\\lambda Q=4.998652623830768$"
     },
     "metadata": {},
     "output_type": "display_data"
    },
    {
     "data": {
      "text/plain": "<IPython.core.display.Math object>",
      "text/latex": "$\\displaystyle \\text{Среднее число заявок, находящихся в очереди, находится по формуле}$"
     },
     "metadata": {},
     "output_type": "display_data"
    },
    {
     "data": {
      "text/plain": "<IPython.core.display.Math object>",
      "text/latex": "$\\displaystyle L_{oч}=\\sum_{i=1}^{m} i p_{n+i}=p_{n} \\cdot \\sum_{i=1}^{m} \\frac{i \\cdot \\rho^{i}}{\\prod_{l=1}^{i}(n+l \\beta)}=0.0021558018707703713$"
     },
     "metadata": {},
     "output_type": "display_data"
    },
    {
     "data": {
      "text/plain": "<IPython.core.display.Math object>",
      "text/latex": "$\\displaystyle \\text{Среднее число заявок, обслуживаемых в СМО, находится по формуле}$"
     },
     "metadata": {},
     "output_type": "display_data"
    },
    {
     "data": {
      "text/plain": "<IPython.core.display.Math object>",
      "text/latex": "$\\displaystyle L_{o б c}=\\sum_{k=1}^{n} k \\cdot p_{k}+\\sum_{i=1}^{m} n \\cdot p_{n+i}=0.8341866715738466$"
     },
     "metadata": {},
     "output_type": "display_data"
    },
    {
     "data": {
      "text/plain": "<IPython.core.display.Math object>",
      "text/latex": "$\\displaystyle \\text{ Среднее число занятых каналов }$"
     },
     "metadata": {},
     "output_type": "display_data"
    },
    {
     "data": {
      "text/plain": "<IPython.core.display.Math object>",
      "text/latex": "$\\displaystyle \\bar{k}=\\frac{A}{\\mu}=0.8331087706384613$"
     },
     "metadata": {},
     "output_type": "display_data"
    },
    {
     "data": {
      "text/plain": "<IPython.core.display.Math object>",
      "text/latex": "$\\displaystyle \\text{ Среднее время ожидания заявки в очереди }$"
     },
     "metadata": {},
     "output_type": "display_data"
    },
    {
     "data": {
      "text/plain": "<IPython.core.display.Math object>",
      "text/latex": "$\\displaystyle t=\\frac{L}{\\lambda}=0.00043116037415407424$"
     },
     "metadata": {},
     "output_type": "display_data"
    },
    {
     "data": {
      "text/plain": "<IPython.core.display.Math object>",
      "text/latex": "$\\displaystyle \\text{ Среднее время пребывания заявки в системе }$"
     },
     "metadata": {},
     "output_type": "display_data"
    },
    {
     "data": {
      "text/plain": "<IPython.core.display.Math object>",
      "text/latex": "$\\displaystyle T=t+\\frac{1}{\\mu},=0.16683733431476933$"
     },
     "metadata": {},
     "output_type": "display_data"
    },
    {
     "name": "stdout",
     "output_type": "stream",
     "text": [
      "Empirical\n"
     ]
    },
    {
     "data": {
      "text/plain": "<IPython.core.display.Math object>",
      "text/latex": "$\\displaystyle \\text{ Финальные вероятности состояний }$"
     },
     "metadata": {},
     "output_type": "display_data"
    },
    {
     "data": {
      "text/plain": "<IPython.core.display.Math object>",
      "text/latex": "$\\displaystyle p_0=0.4335307371737353$"
     },
     "metadata": {},
     "output_type": "display_data"
    },
    {
     "data": {
      "text/plain": "<IPython.core.display.Math object>",
      "text/latex": "$\\displaystyle p_1=0.36216625790113854$"
     },
     "metadata": {},
     "output_type": "display_data"
    },
    {
     "data": {
      "text/plain": "<IPython.core.display.Math object>",
      "text/latex": "$\\displaystyle p_2=0.15032601543339116$"
     },
     "metadata": {},
     "output_type": "display_data"
    },
    {
     "data": {
      "text/plain": "<IPython.core.display.Math object>",
      "text/latex": "$\\displaystyle p_3=0.04235209666806245$"
     },
     "metadata": {},
     "output_type": "display_data"
    },
    {
     "data": {
      "text/plain": "<IPython.core.display.Math object>",
      "text/latex": "$\\displaystyle p_4=0.009630914637793862$"
     },
     "metadata": {},
     "output_type": "display_data"
    },
    {
     "data": {
      "text/plain": "<IPython.core.display.Math object>",
      "text/latex": "$\\displaystyle p_5=0.0016948814579968495$"
     },
     "metadata": {},
     "output_type": "display_data"
    },
    {
     "data": {
      "text/plain": "<IPython.core.display.Math object>",
      "text/latex": "$\\displaystyle p_6=0.000299096727881797$"
     },
     "metadata": {},
     "output_type": "display_data"
    },
    {
     "data": {
      "text/plain": "<IPython.core.display.Math object>",
      "text/latex": "$\\displaystyle \\text{Вероятность образования очереди определяется формулой}$"
     },
     "metadata": {},
     "output_type": "display_data"
    },
    {
     "data": {
      "text/plain": "<IPython.core.display.Math object>",
      "text/latex": "$\\displaystyle p_{оч}=0.011325796095790711$"
     },
     "metadata": {},
     "output_type": "display_data"
    },
    {
     "data": {
      "text/plain": "<IPython.core.display.Math object>",
      "text/latex": "$\\displaystyle \\text{Вероятность отказа в обслуживании равна}$"
     },
     "metadata": {},
     "output_type": "display_data"
    },
    {
     "data": {
      "text/plain": "<IPython.core.display.Math object>",
      "text/latex": "$\\displaystyle p_{o m \\kappa}=0.000299096727881797$"
     },
     "metadata": {},
     "output_type": "display_data"
    },
    {
     "data": {
      "text/plain": "<IPython.core.display.Math object>",
      "text/latex": "$\\displaystyle \\text{ Относительная пропускная способность равна }$"
     },
     "metadata": {},
     "output_type": "display_data"
    },
    {
     "data": {
      "text/plain": "<IPython.core.display.Math object>",
      "text/latex": "$\\displaystyle Q=0.9997009032721182$"
     },
     "metadata": {},
     "output_type": "display_data"
    },
    {
     "data": {
      "text/plain": "<IPython.core.display.Math object>",
      "text/latex": "$\\displaystyle \\text{Абсолютная пропускная способность}$"
     },
     "metadata": {},
     "output_type": "display_data"
    },
    {
     "data": {
      "text/plain": "<IPython.core.display.Math object>",
      "text/latex": "$\\displaystyle A=5.0136$"
     },
     "metadata": {},
     "output_type": "display_data"
    },
    {
     "data": {
      "text/plain": "<IPython.core.display.Math object>",
      "text/latex": "$\\displaystyle \\text{Среднее число заявок, находящихся в очереди, находится по формуле}$"
     },
     "metadata": {},
     "output_type": "display_data"
    },
    {
     "data": {
      "text/plain": "<IPython.core.display.Math object>",
      "text/latex": "$\\displaystyle L_{oч}=0.0022930749137604436$"
     },
     "metadata": {},
     "output_type": "display_data"
    },
    {
     "data": {
      "text/plain": "<IPython.core.display.Math object>",
      "text/latex": "$\\displaystyle \\text{Среднее число заявок, находящихся в СМО, находится по формуле}$"
     },
     "metadata": {},
     "output_type": "display_data"
    },
    {
     "data": {
      "text/plain": "<IPython.core.display.Math object>",
      "text/latex": "$\\displaystyle L_{o б c}=0.8386672249805587$"
     },
     "metadata": {},
     "output_type": "display_data"
    },
    {
     "data": {
      "text/plain": "<IPython.core.display.Math object>",
      "text/latex": "$\\displaystyle \\text{ Среднее число занятых каналов }$"
     },
     "metadata": {},
     "output_type": "display_data"
    },
    {
     "data": {
      "text/plain": "<IPython.core.display.Math object>",
      "text/latex": "$\\displaystyle \\bar{k}=0.8386672249805587$"
     },
     "metadata": {},
     "output_type": "display_data"
    },
    {
     "data": {
      "text/plain": "<IPython.core.display.Math object>",
      "text/latex": "$\\displaystyle \\text{ Среднее время ожидания заявки в очереди }$"
     },
     "metadata": {},
     "output_type": "display_data"
    },
    {
     "data": {
      "text/plain": "<IPython.core.display.Math object>",
      "text/latex": "$\\displaystyle t=0.0004923401534419412$"
     },
     "metadata": {},
     "output_type": "display_data"
    },
    {
     "data": {
      "text/plain": "<IPython.core.display.Math object>",
      "text/latex": "$\\displaystyle \\text{ Среднее время пребывания заявки в системе }$"
     },
     "metadata": {},
     "output_type": "display_data"
    },
    {
     "data": {
      "text/plain": "<IPython.core.display.Math object>",
      "text/latex": "$\\displaystyle T=0.16662644107621227$"
     },
     "metadata": {},
     "output_type": "display_data"
    }
   ],
   "source": [
    "main(n=4, m=2, l=5, mu=6, v=3, until=10000)"
   ],
   "metadata": {
    "collapsed": false,
    "pycharm": {
     "name": "#%%\n"
    }
   }
  },
  {
   "cell_type": "code",
   "execution_count": 129,
   "outputs": [
    {
     "name": "stdout",
     "output_type": "stream",
     "text": [
      "Theoretical\n"
     ]
    },
    {
     "data": {
      "text/plain": "<IPython.core.display.Math object>",
      "text/latex": "$\\displaystyle \\text{ Финальные вероятности состояний }$"
     },
     "metadata": {},
     "output_type": "display_data"
    },
    {
     "data": {
      "text/plain": "<IPython.core.display.Math object>",
      "text/latex": "$\\displaystyle p_{0}=\\left(1+\\frac{\\rho}{1 !}+\\frac{\\rho^{2}}{2 !}+\\ldots+\\frac{\\rho^{n}}{n !}+\\frac{\\rho^{n}}{n !} \\cdot \\sum_{i=1}^{m} \\frac{\\rho^{i}}{\\prod_{l=1}^{i}(n+l \\beta)}\\right)^{-1}=0.22412887410260898$"
     },
     "metadata": {},
     "output_type": "display_data"
    },
    {
     "data": {
      "text/plain": "<IPython.core.display.Math object>",
      "text/latex": "$\\displaystyle p_{k}=\\frac{\\rho^{k}}{k !} \\cdot p_{0}, \\quad(k=\\overline{1, n})$"
     },
     "metadata": {},
     "output_type": "display_data"
    },
    {
     "data": {
      "text/plain": "<IPython.core.display.Math object>",
      "text/latex": "$\\displaystyle p_1=0.3361933111539135$"
     },
     "metadata": {},
     "output_type": "display_data"
    },
    {
     "data": {
      "text/plain": "<IPython.core.display.Math object>",
      "text/latex": "$\\displaystyle p_2=0.2521449833654351$"
     },
     "metadata": {},
     "output_type": "display_data"
    },
    {
     "data": {
      "text/plain": "<IPython.core.display.Math object>",
      "text/latex": "$\\displaystyle p_3=0.12607249168271756$"
     },
     "metadata": {},
     "output_type": "display_data"
    },
    {
     "data": {
      "text/plain": "<IPython.core.display.Math object>",
      "text/latex": "$\\displaystyle p_{n+i}=p_{n} \\cdot \\frac{\\rho^{i}}{\\prod_{l=1}^{i}(n+l \\beta)}, \\quad(i=\\overline{1, m})$"
     },
     "metadata": {},
     "output_type": "display_data"
    },
    {
     "data": {
      "text/plain": "<IPython.core.display.Math object>",
      "text/latex": "$\\displaystyle p_4=0.047277184381019084$"
     },
     "metadata": {},
     "output_type": "display_data"
    },
    {
     "data": {
      "text/plain": "<IPython.core.display.Math object>",
      "text/latex": "$\\displaystyle p_5=0.014183155314305725$"
     },
     "metadata": {},
     "output_type": "display_data"
    },
    {
     "data": {
      "text/plain": "<IPython.core.display.Math object>",
      "text/latex": "$\\displaystyle \\text{Вероятность образования очереди определяется формулой}$"
     },
     "metadata": {},
     "output_type": "display_data"
    },
    {
     "data": {
      "text/plain": "<IPython.core.display.Math object>",
      "text/latex": "$\\displaystyle p_{оч}=\\sum_{i=0}^{m=1} p_{n+i}=p_{n} \\cdot\\left(1+\\sum_{i=1}^{m-1} \\frac{\\rho^{i}}{\\prod_{l=1}^{i}(n+l \\beta)}\\right)=0.17334967606373664$"
     },
     "metadata": {},
     "output_type": "display_data"
    },
    {
     "data": {
      "text/plain": "<IPython.core.display.Math object>",
      "text/latex": "$\\displaystyle \\text{Отказ в обслуживании заявки происходит, когда все m мест в очереди заняты, т.е. вероятность отказа в обслуживании равна}$"
     },
     "metadata": {},
     "output_type": "display_data"
    },
    {
     "data": {
      "text/plain": "<IPython.core.display.Math object>",
      "text/latex": "$\\displaystyle p_{o m \\kappa}=p_{n+m}=p_{n} \\cdot \\frac{\\rho^{m}}{\\prod_{l=1}^{m}(n+l \\beta)}=0.014183155314305725$"
     },
     "metadata": {},
     "output_type": "display_data"
    },
    {
     "data": {
      "text/plain": "<IPython.core.display.Math object>",
      "text/latex": "$\\displaystyle \\text{ Относительная пропускная способность равна }$"
     },
     "metadata": {},
     "output_type": "display_data"
    },
    {
     "data": {
      "text/plain": "<IPython.core.display.Math object>",
      "text/latex": "$\\displaystyle Q=p_{\\text {oбc. }}=1-p_{\\text {отк. }}=1-p_{n} \\cdot \\frac{\\rho^{m}}{\\prod_{l=1}^{m}(n+l \\beta)}=0.9858168446856943$"
     },
     "metadata": {},
     "output_type": "display_data"
    },
    {
     "data": {
      "text/plain": "<IPython.core.display.Math object>",
      "text/latex": "$\\displaystyle \\text{Абсолютная пропускная способность}$"
     },
     "metadata": {},
     "output_type": "display_data"
    },
    {
     "data": {
      "text/plain": "<IPython.core.display.Math object>",
      "text/latex": "$\\displaystyle A=\\lambda Q=2.9574505340570827$"
     },
     "metadata": {},
     "output_type": "display_data"
    },
    {
     "data": {
      "text/plain": "<IPython.core.display.Math object>",
      "text/latex": "$\\displaystyle \\text{Среднее число заявок, находящихся в очереди, находится по формуле}$"
     },
     "metadata": {},
     "output_type": "display_data"
    },
    {
     "data": {
      "text/plain": "<IPython.core.display.Math object>",
      "text/latex": "$\\displaystyle L_{oч}=\\sum_{i=1}^{m} i p_{n+i}=p_{n} \\cdot \\sum_{i=1}^{m} \\frac{i \\cdot \\rho^{i}}{\\prod_{l=1}^{i}(n+l \\beta)}=0.07564349500963054$"
     },
     "metadata": {},
     "output_type": "display_data"
    },
    {
     "data": {
      "text/plain": "<IPython.core.display.Math object>",
      "text/latex": "$\\displaystyle \\text{Среднее число заявок, обслуживаемых в СМО, находится по формуле}$"
     },
     "metadata": {},
     "output_type": "display_data"
    },
    {
     "data": {
      "text/plain": "<IPython.core.display.Math object>",
      "text/latex": "$\\displaystyle L_{o б c}=\\sum_{k=1}^{n} k \\cdot p_{k}+\\sum_{i=1}^{m} n \\cdot p_{n+i}=1.4787252670285413$"
     },
     "metadata": {},
     "output_type": "display_data"
    },
    {
     "data": {
      "text/plain": "<IPython.core.display.Math object>",
      "text/latex": "$\\displaystyle \\text{ Среднее число занятых каналов }$"
     },
     "metadata": {},
     "output_type": "display_data"
    },
    {
     "data": {
      "text/plain": "<IPython.core.display.Math object>",
      "text/latex": "$\\displaystyle \\bar{k}=\\frac{A}{\\mu}=1.4787252670285413$"
     },
     "metadata": {},
     "output_type": "display_data"
    },
    {
     "data": {
      "text/plain": "<IPython.core.display.Math object>",
      "text/latex": "$\\displaystyle \\text{ Среднее время ожидания заявки в очереди }$"
     },
     "metadata": {},
     "output_type": "display_data"
    },
    {
     "data": {
      "text/plain": "<IPython.core.display.Math object>",
      "text/latex": "$\\displaystyle t=\\frac{L}{\\lambda}=0.025214498336543514$"
     },
     "metadata": {},
     "output_type": "display_data"
    },
    {
     "data": {
      "text/plain": "<IPython.core.display.Math object>",
      "text/latex": "$\\displaystyle \\text{ Среднее время пребывания заявки в системе }$"
     },
     "metadata": {},
     "output_type": "display_data"
    },
    {
     "data": {
      "text/plain": "<IPython.core.display.Math object>",
      "text/latex": "$\\displaystyle T=t+\\frac{1}{\\mu},=0.4929084223428471$"
     },
     "metadata": {},
     "output_type": "display_data"
    },
    {
     "name": "stdout",
     "output_type": "stream",
     "text": [
      "Empirical\n"
     ]
    },
    {
     "data": {
      "text/plain": "<IPython.core.display.Math object>",
      "text/latex": "$\\displaystyle \\text{ Финальные вероятности состояний }$"
     },
     "metadata": {},
     "output_type": "display_data"
    },
    {
     "data": {
      "text/plain": "<IPython.core.display.Math object>",
      "text/latex": "$\\displaystyle p_0=0.2244375589384346$"
     },
     "metadata": {},
     "output_type": "display_data"
    },
    {
     "data": {
      "text/plain": "<IPython.core.display.Math object>",
      "text/latex": "$\\displaystyle p_1=0.33541021150478245$"
     },
     "metadata": {},
     "output_type": "display_data"
    },
    {
     "data": {
      "text/plain": "<IPython.core.display.Math object>",
      "text/latex": "$\\displaystyle p_2=0.2514145224302842$"
     },
     "metadata": {},
     "output_type": "display_data"
    },
    {
     "data": {
      "text/plain": "<IPython.core.display.Math object>",
      "text/latex": "$\\displaystyle p_3=0.12461269028694598$"
     },
     "metadata": {},
     "output_type": "display_data"
    },
    {
     "data": {
      "text/plain": "<IPython.core.display.Math object>",
      "text/latex": "$\\displaystyle p_4=0.04913781489963626$"
     },
     "metadata": {},
     "output_type": "display_data"
    },
    {
     "data": {
      "text/plain": "<IPython.core.display.Math object>",
      "text/latex": "$\\displaystyle p_5=0.014987201939916477$"
     },
     "metadata": {},
     "output_type": "display_data"
    },
    {
     "data": {
      "text/plain": "<IPython.core.display.Math object>",
      "text/latex": "$\\displaystyle \\text{Вероятность образования очереди определяется формулой}$"
     },
     "metadata": {},
     "output_type": "display_data"
    },
    {
     "data": {
      "text/plain": "<IPython.core.display.Math object>",
      "text/latex": "$\\displaystyle p_{оч}=0.17375050518658225$"
     },
     "metadata": {},
     "output_type": "display_data"
    },
    {
     "data": {
      "text/plain": "<IPython.core.display.Math object>",
      "text/latex": "$\\displaystyle \\text{Вероятность отказа в обслуживании равна}$"
     },
     "metadata": {},
     "output_type": "display_data"
    },
    {
     "data": {
      "text/plain": "<IPython.core.display.Math object>",
      "text/latex": "$\\displaystyle p_{o m \\kappa}=0.014987201939916477$"
     },
     "metadata": {},
     "output_type": "display_data"
    },
    {
     "data": {
      "text/plain": "<IPython.core.display.Math object>",
      "text/latex": "$\\displaystyle \\text{ Относительная пропускная способность равна }$"
     },
     "metadata": {},
     "output_type": "display_data"
    },
    {
     "data": {
      "text/plain": "<IPython.core.display.Math object>",
      "text/latex": "$\\displaystyle Q=0.9850127980600836$"
     },
     "metadata": {},
     "output_type": "display_data"
    },
    {
     "data": {
      "text/plain": "<IPython.core.display.Math object>",
      "text/latex": "$\\displaystyle \\text{Абсолютная пропускная способность}$"
     },
     "metadata": {},
     "output_type": "display_data"
    },
    {
     "data": {
      "text/plain": "<IPython.core.display.Math object>",
      "text/latex": "$\\displaystyle A=2.9247$"
     },
     "metadata": {},
     "output_type": "display_data"
    },
    {
     "data": {
      "text/plain": "<IPython.core.display.Math object>",
      "text/latex": "$\\displaystyle \\text{Среднее число заявок, находящихся в очереди, находится по формуле}$"
     },
     "metadata": {},
     "output_type": "display_data"
    },
    {
     "data": {
      "text/plain": "<IPython.core.display.Math object>",
      "text/latex": "$\\displaystyle L_{oч}=0.07911221877946922$"
     },
     "metadata": {},
     "output_type": "display_data"
    },
    {
     "data": {
      "text/plain": "<IPython.core.display.Math object>",
      "text/latex": "$\\displaystyle \\text{Среднее число заявок, находящихся в СМО, находится по формуле}$"
     },
     "metadata": {},
     "output_type": "display_data"
    },
    {
     "data": {
      "text/plain": "<IPython.core.display.Math object>",
      "text/latex": "$\\displaystyle L_{o б c}=1.4835645965243163$"
     },
     "metadata": {},
     "output_type": "display_data"
    },
    {
     "data": {
      "text/plain": "<IPython.core.display.Math object>",
      "text/latex": "$\\displaystyle \\text{ Среднее число занятых каналов }$"
     },
     "metadata": {},
     "output_type": "display_data"
    },
    {
     "data": {
      "text/plain": "<IPython.core.display.Math object>",
      "text/latex": "$\\displaystyle \\bar{k}=1.4835645965243163$"
     },
     "metadata": {},
     "output_type": "display_data"
    },
    {
     "data": {
      "text/plain": "<IPython.core.display.Math object>",
      "text/latex": "$\\displaystyle \\text{ Среднее время ожидания заявки в очереди }$"
     },
     "metadata": {},
     "output_type": "display_data"
    },
    {
     "data": {
      "text/plain": "<IPython.core.display.Math object>",
      "text/latex": "$\\displaystyle t=0.02565970178861167$"
     },
     "metadata": {},
     "output_type": "display_data"
    },
    {
     "data": {
      "text/plain": "<IPython.core.display.Math object>",
      "text/latex": "$\\displaystyle \\text{ Среднее время пребывания заявки в системе }$"
     },
     "metadata": {},
     "output_type": "display_data"
    },
    {
     "data": {
      "text/plain": "<IPython.core.display.Math object>",
      "text/latex": "$\\displaystyle T=0.4945865498089427$"
     },
     "metadata": {},
     "output_type": "display_data"
    },
    {
     "data": {
      "text/plain": "<Figure size 960x600 with 1 Axes>",
      "image/png": "[encoded data removed]"
     },
     "metadata": {},
     "output_type": "display_data"
    },
    {
     "data": {
      "text/plain": "<Figure size 960x600 with 1 Axes>",
      "image/png": "[encoded data removed]"
     },
     "metadata": {},
     "output_type": "display_data"
    },
    {
     "data": {
      "text/plain": "<Figure size 960x600 with 1 Axes>",
      "image/png": "[encoded data removed]"
     },
     "metadata": {},
     "output_type": "display_data"
    },
    {
     "data": {
      "text/plain": "<Figure size 960x600 with 1 Axes>",
      "image/png": "[encoded data removed]"
     },
     "metadata": {},
     "output_type": "display_data"
    },
    {
     "data": {
      "text/plain": "<Figure size 960x600 with 1 Axes>",
      "image/png": "[encoded data removed]"
     },
     "metadata": {},
     "output_type": "display_data"
    },
    {
     "data": {
      "text/plain": "<Figure size 960x600 with 1 Axes>",
      "image/png": "[encoded data removed]"
     },
     "metadata": {},
     "output_type": "display_data"
    }
   ],
   "source": [
    "main(n=3, m=2, l=3, mu=2, v=2, until=10000, plot=True)"
   ],
   "metadata": {
    "collapsed": false,
    "pycharm": {
     "name": "#%%\n"
    }
   }
  },
  {
   "cell_type": "code",
   "execution_count": null,
   "outputs": [],
   "source": [],
   "metadata": {
    "collapsed": false,
    "pycharm": {
     "name": "#%%\n"
    }
   }
  }
 ],
 "metadata": {
  "kernelspec": {
   "display_name": "Python 3",
   "language": "python",
   "name": "python3"
  },
  "language_info": {
   "codemirror_mode": {
    "name": "ipython",
    "version": 2
   },
   "file_extension": ".py",
   "mimetype": "text/x-python",
   "name": "python",
   "nbconvert_exporter": "python",
   "pygments_lexer": "ipython2",
   "version": "2.7.6"
  }
 },
 "nbformat": 4,
 "nbformat_minor": 0
}